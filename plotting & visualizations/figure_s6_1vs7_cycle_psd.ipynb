{
 "cells": [
  {
   "cell_type": "markdown",
   "id": "ca3f29f9",
   "metadata": {},
   "source": [
    "#### Figure S6 (in the SI)\n",
    "\n",
    "This figure tries to illustrate cumulative dust recovered after several extraction cycles from the same filter does not majroly differ from the dust recoverted after only one extraction cycle. In other words, the mutiple extraction cycle will make a representative and homogenous recovery.\n",
    "\n",
    "Plot type: Line plot."
   ]
  },
  {
   "cell_type": "code",
   "execution_count": 8,
   "id": "b94b5b14",
   "metadata": {},
   "outputs": [
    {
     "name": "stderr",
     "output_type": "stream",
     "text": [
      "C:\\Users\\alima\\anaconda3\\lib\\site-packages\\pandas\\core\\indexing.py:1951: SettingWithCopyWarning: \n",
      "A value is trying to be set on a copy of a slice from a DataFrame.\n",
      "Try using .loc[row_indexer,col_indexer] = value instead\n",
      "\n",
      "See the caveats in the documentation: https://pandas.pydata.org/pandas-docs/stable/user_guide/indexing.html#returning-a-view-versus-a-copy\n",
      "  self.obj[selected_item_labels] = value\n"
     ]
    }
   ],
   "source": [
    "from matplotlib import pyplot as plt\n",
    "from matplotlib import container\n",
    "import pandas as pd\n",
    "import numpy as np\n",
    "\n",
    "df = pd.read_excel(r'artl_v_psd_master.xlsx')\n",
    "col_list_all = list(df.columns)\n",
    "df_select = df[['Size'] + [col for col in col_list_all if ('_010' in col) & ('_hd' in col) & (('_mean' in col)|('_min' in col)|('_max' in col))]]\n",
    "\n",
    "# one cycle\n",
    "df_select.iloc[:,3] = df_select.iloc[:,1] - df_select.iloc[:,3]\n",
    "df_select.iloc[:,5] = df_select.iloc[:,5] - df_select.iloc[:,1]\n",
    "\n",
    "# seven cycles\n",
    "df_select.iloc[:,4] = df_select.iloc[:,2] - df_select.iloc[:,4]\n",
    "df_select.iloc[:,6] = df_select.iloc[:,6] - df_select.iloc[:,2]"
   ]
  },
  {
   "cell_type": "code",
   "execution_count": 5,
   "id": "68a91e76",
   "metadata": {},
   "outputs": [
    {
     "data": {
      "text/html": [
       "<div>\n",
       "<style scoped>\n",
       "    .dataframe tbody tr th:only-of-type {\n",
       "        vertical-align: middle;\n",
       "    }\n",
       "\n",
       "    .dataframe tbody tr th {\n",
       "        vertical-align: top;\n",
       "    }\n",
       "\n",
       "    .dataframe thead th {\n",
       "        text-align: right;\n",
       "    }\n",
       "</style>\n",
       "<table border=\"1\" class=\"dataframe\">\n",
       "  <thead>\n",
       "    <tr style=\"text-align: right;\">\n",
       "      <th></th>\n",
       "      <th>Size</th>\n",
       "      <th>Eval_010_iso2_11e_hd_180326_am_mean</th>\n",
       "      <th>Eval_010_iso2_11e_hd_180326_am_r2_mean</th>\n",
       "      <th>Eval_010_iso2_11e_hd_180326_am_min</th>\n",
       "      <th>Eval_010_iso2_11e_hd_180326_am_r2_min</th>\n",
       "      <th>Eval_010_iso2_11e_hd_180326_am_max</th>\n",
       "      <th>Eval_010_iso2_11e_hd_180326_am_r2_max</th>\n",
       "    </tr>\n",
       "  </thead>\n",
       "  <tbody>\n",
       "    <tr>\n",
       "      <th>14</th>\n",
       "      <td>0.501</td>\n",
       "      <td>0.050</td>\n",
       "      <td>0.060</td>\n",
       "      <td>0.000000e+00</td>\n",
       "      <td>0.000</td>\n",
       "      <td>0.000000e+00</td>\n",
       "      <td>0.000</td>\n",
       "    </tr>\n",
       "    <tr>\n",
       "      <th>15</th>\n",
       "      <td>0.562</td>\n",
       "      <td>0.210</td>\n",
       "      <td>0.240</td>\n",
       "      <td>0.000000e+00</td>\n",
       "      <td>0.000</td>\n",
       "      <td>0.000000e+00</td>\n",
       "      <td>0.000</td>\n",
       "    </tr>\n",
       "    <tr>\n",
       "      <th>16</th>\n",
       "      <td>0.631</td>\n",
       "      <td>0.460</td>\n",
       "      <td>0.500</td>\n",
       "      <td>5.551115e-17</td>\n",
       "      <td>0.000</td>\n",
       "      <td>-5.551115e-17</td>\n",
       "      <td>0.000</td>\n",
       "    </tr>\n",
       "    <tr>\n",
       "      <th>17</th>\n",
       "      <td>0.708</td>\n",
       "      <td>0.734</td>\n",
       "      <td>0.782</td>\n",
       "      <td>4.000000e-03</td>\n",
       "      <td>0.002</td>\n",
       "      <td>6.000000e-03</td>\n",
       "      <td>0.008</td>\n",
       "    </tr>\n",
       "    <tr>\n",
       "      <th>18</th>\n",
       "      <td>0.794</td>\n",
       "      <td>0.976</td>\n",
       "      <td>1.024</td>\n",
       "      <td>6.000000e-03</td>\n",
       "      <td>0.004</td>\n",
       "      <td>4.000000e-03</td>\n",
       "      <td>0.006</td>\n",
       "    </tr>\n",
       "  </tbody>\n",
       "</table>\n",
       "</div>"
      ],
      "text/plain": [
       "     Size  Eval_010_iso2_11e_hd_180326_am_mean  \\\n",
       "14  0.501                                0.050   \n",
       "15  0.562                                0.210   \n",
       "16  0.631                                0.460   \n",
       "17  0.708                                0.734   \n",
       "18  0.794                                0.976   \n",
       "\n",
       "    Eval_010_iso2_11e_hd_180326_am_r2_mean  \\\n",
       "14                                   0.060   \n",
       "15                                   0.240   \n",
       "16                                   0.500   \n",
       "17                                   0.782   \n",
       "18                                   1.024   \n",
       "\n",
       "    Eval_010_iso2_11e_hd_180326_am_min  Eval_010_iso2_11e_hd_180326_am_r2_min  \\\n",
       "14                        0.000000e+00                                  0.000   \n",
       "15                        0.000000e+00                                  0.000   \n",
       "16                        5.551115e-17                                  0.000   \n",
       "17                        4.000000e-03                                  0.002   \n",
       "18                        6.000000e-03                                  0.004   \n",
       "\n",
       "    Eval_010_iso2_11e_hd_180326_am_max  Eval_010_iso2_11e_hd_180326_am_r2_max  \n",
       "14                        0.000000e+00                                  0.000  \n",
       "15                        0.000000e+00                                  0.000  \n",
       "16                       -5.551115e-17                                  0.000  \n",
       "17                        6.000000e-03                                  0.008  \n",
       "18                        4.000000e-03                                  0.006  "
      ]
     },
     "execution_count": 5,
     "metadata": {},
     "output_type": "execute_result"
    }
   ],
   "source": [
    "df_select.iloc[14:,].head()"
   ]
  },
  {
   "cell_type": "code",
   "execution_count": 6,
   "id": "847ead9c",
   "metadata": {},
   "outputs": [
    {
     "data": {
      "image/png": "[encoded data removed]",
      "text/plain": [
       "<Figure size 432x288 with 1 Axes>"
      ]
     },
     "metadata": {
      "needs_background": "light"
     },
     "output_type": "display_data"
    }
   ],
   "source": [
    "plt.figure()\n",
    "plt.errorbar(df['Size'], df_select.iloc[:,1], yerr = [df_select.iloc[:,3],df_select.iloc[:,5]], \n",
    "             xerr = None, capsize = 3, c = \"b\", ecolor = 'black', elinewidth = 0.5, capthick = 0.5, label = 'After one cycle')\n",
    "\n",
    "plt.errorbar(df['Size'], df_select.iloc[:,2], yerr = [df_select.iloc[:,4],df_select.iloc[:,6]], \n",
    "            xerr = None, capsize = 3, c = \"r\", ecolor = 'black', elinewidth = 0.5, capthick = 0.5, label = 'After seven cycles')\n",
    "\n",
    "plt.xscale('log')\n",
    "\n",
    "plt.xlim(0.3, 300)\n",
    "a = [0.3, 1, 3, 10, 30, 100, 300]\n",
    "plt.xticks(ticks = a, labels = a)\n",
    "plt.minorticks_off()\n",
    "plt.xlabel('Particle Size (µm)', size = 14)\n",
    "\n",
    "plt.ylim(0, 4)\n",
    "plt.yticks(np.arange(0, 5, step=1))\n",
    "plt.ylabel('Volume Distribution (%)', size = 14)\n",
    "\n",
    "plt.tick_params(axis = 'both', direction = 'inout')\n",
    "\n",
    "ax = plt.gca()\n",
    "handles, labels = ax.get_legend_handles_labels()\n",
    "\n",
    "new_handles = []\n",
    "for h in handles:\n",
    "    #only need to edit the errorbar legend entries\n",
    "    if isinstance(h, container.ErrorbarContainer):\n",
    "        new_handles.append(h[0])\n",
    "    else:\n",
    "        new_handles.append(h)\n",
    "\n",
    "ax.legend(new_handles, labels, loc = 9, ncol = 2, frameon = True, edgecolor = 'black', framealpha=1, bbox_to_anchor=(0.5, 1.15))\n",
    "plt.savefig(r'FigureS6.jpg', format='jpg', dpi=1600, bbox_inches='tight')\n"
   ]
  },
  {
   "cell_type": "markdown",
   "id": "4c38b63c",
   "metadata": {},
   "source": [
    "End of Code"
   ]
  },
  {
   "cell_type": "code",
   "execution_count": null,
   "id": "33a69b10",
   "metadata": {},
   "outputs": [],
   "source": []
  }
 ],
 "metadata": {
  "kernelspec": {
   "display_name": "Python 3 (ipykernel)",
   "language": "python",
   "name": "python3"
  },
  "language_info": {
   "codemirror_mode": {
    "name": "ipython",
    "version": 3
   },
   "file_extension": ".py",
   "mimetype": "text/x-python",
   "name": "python",
   "nbconvert_exporter": "python",
   "pygments_lexer": "ipython3",
   "version": "3.9.7"
  }
 },
 "nbformat": 4,
 "nbformat_minor": 5
}
