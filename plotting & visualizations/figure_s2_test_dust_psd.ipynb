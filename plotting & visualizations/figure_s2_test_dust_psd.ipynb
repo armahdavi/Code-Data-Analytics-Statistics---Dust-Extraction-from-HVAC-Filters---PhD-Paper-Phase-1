{
 "cells": [
  {
   "cell_type": "markdown",
   "id": "eb870c2b",
   "metadata": {},
   "source": [
    "#### Code to plot Figures S2A,B  in Mahdavi &Siegel (2020) AS&T\n",
    "Both figures are in the Supplemental Information (SI).\n",
    "\n",
    "Figure S2A illustrates the standard size distribution of ISO A2 and ASHRAE #2 test dust samples.\n",
    "Figure S2B compares the measured size distribution of ISO A2 test dust sample along with the results published from Powder Technology Inc., (the company we purchased our dust samples for testing and research purposes years ago).\n",
    "\n",
    "Plot type: Line plot."
   ]
  },
  {
   "cell_type": "code",
   "execution_count": 1,
   "id": "4cb4eed3",
   "metadata": {},
   "outputs": [],
   "source": [
    "from matplotlib import pyplot as plt\n",
    "from matplotlib import container\n",
    "import pandas as pd\n",
    "import numpy as np\n",
    "\n",
    "df = pd.read_excel(r'artl_v_psd_master.xlsx')\n",
    "\n",
    "# Keeping those necessary columns that have test dust mean, min and max psds for central and error illustrations\n",
    "df = df[['Size', \n",
    "         'Eval_010_iso2_11e_td_180326_am_mean', 'Eval_010_iso2_11e_td_180326_am_min', 'Eval_010_iso2_11e_td_180326_am_max',\n",
    "         'Eval_001_ash2_11e_td_171128_am_mean', 'Eval_001_ash2_11e_td_171128_am_min', 'Eval_001_ash2_11e_td_171128_am_max']]\n",
    "\n",
    "# Converting min/max values to the the magnitude of the error bars\n",
    "df.iloc[:,2] = df.iloc[:,1] - df.iloc[:,2]\n",
    "df.iloc[:,3] = df.iloc[:,3] - df.iloc[:,1]\n",
    "\n",
    "df.iloc[:,5] = df.iloc[:,4] - df.iloc[:,5]\n",
    "df.iloc[:,6] = df.iloc[:,6] - df.iloc[:,4]\n"
   ]
  },
  {
   "cell_type": "code",
   "execution_count": 4,
   "id": "5544a6e8",
   "metadata": {},
   "outputs": [
    {
     "data": {
      "text/html": [
       "<div>\n",
       "<style scoped>\n",
       "    .dataframe tbody tr th:only-of-type {\n",
       "        vertical-align: middle;\n",
       "    }\n",
       "\n",
       "    .dataframe tbody tr th {\n",
       "        vertical-align: top;\n",
       "    }\n",
       "\n",
       "    .dataframe thead th {\n",
       "        text-align: right;\n",
       "    }\n",
       "</style>\n",
       "<table border=\"1\" class=\"dataframe\">\n",
       "  <thead>\n",
       "    <tr style=\"text-align: right;\">\n",
       "      <th></th>\n",
       "      <th>Size</th>\n",
       "      <th>Eval_010_iso2_11e_td_180326_am_mean</th>\n",
       "      <th>Eval_010_iso2_11e_td_180326_am_min</th>\n",
       "      <th>Eval_010_iso2_11e_td_180326_am_max</th>\n",
       "      <th>Eval_001_ash2_11e_td_171128_am_mean</th>\n",
       "      <th>Eval_001_ash2_11e_td_171128_am_min</th>\n",
       "      <th>Eval_001_ash2_11e_td_171128_am_max</th>\n",
       "    </tr>\n",
       "  </thead>\n",
       "  <tbody>\n",
       "    <tr>\n",
       "      <th>13</th>\n",
       "      <td>0.447</td>\n",
       "      <td>0.000</td>\n",
       "      <td>0.000000e+00</td>\n",
       "      <td>0.000000e+00</td>\n",
       "      <td>0.000</td>\n",
       "      <td>0.000</td>\n",
       "      <td>0.000</td>\n",
       "    </tr>\n",
       "    <tr>\n",
       "      <th>14</th>\n",
       "      <td>0.501</td>\n",
       "      <td>0.082</td>\n",
       "      <td>2.000000e-03</td>\n",
       "      <td>8.000000e-03</td>\n",
       "      <td>0.060</td>\n",
       "      <td>0.000</td>\n",
       "      <td>0.000</td>\n",
       "    </tr>\n",
       "    <tr>\n",
       "      <th>15</th>\n",
       "      <td>0.562</td>\n",
       "      <td>0.300</td>\n",
       "      <td>0.000000e+00</td>\n",
       "      <td>0.000000e+00</td>\n",
       "      <td>0.218</td>\n",
       "      <td>0.008</td>\n",
       "      <td>0.002</td>\n",
       "    </tr>\n",
       "    <tr>\n",
       "      <th>16</th>\n",
       "      <td>0.631</td>\n",
       "      <td>0.604</td>\n",
       "      <td>4.000000e-03</td>\n",
       "      <td>6.000000e-03</td>\n",
       "      <td>0.454</td>\n",
       "      <td>0.014</td>\n",
       "      <td>0.006</td>\n",
       "    </tr>\n",
       "    <tr>\n",
       "      <th>17</th>\n",
       "      <td>0.708</td>\n",
       "      <td>0.920</td>\n",
       "      <td>1.110223e-16</td>\n",
       "      <td>-1.110223e-16</td>\n",
       "      <td>0.702</td>\n",
       "      <td>0.022</td>\n",
       "      <td>0.008</td>\n",
       "    </tr>\n",
       "  </tbody>\n",
       "</table>\n",
       "</div>"
      ],
      "text/plain": [
       "     Size  Eval_010_iso2_11e_td_180326_am_mean  \\\n",
       "13  0.447                                0.000   \n",
       "14  0.501                                0.082   \n",
       "15  0.562                                0.300   \n",
       "16  0.631                                0.604   \n",
       "17  0.708                                0.920   \n",
       "\n",
       "    Eval_010_iso2_11e_td_180326_am_min  Eval_010_iso2_11e_td_180326_am_max  \\\n",
       "13                        0.000000e+00                        0.000000e+00   \n",
       "14                        2.000000e-03                        8.000000e-03   \n",
       "15                        0.000000e+00                        0.000000e+00   \n",
       "16                        4.000000e-03                        6.000000e-03   \n",
       "17                        1.110223e-16                       -1.110223e-16   \n",
       "\n",
       "    Eval_001_ash2_11e_td_171128_am_mean  Eval_001_ash2_11e_td_171128_am_min  \\\n",
       "13                                0.000                               0.000   \n",
       "14                                0.060                               0.000   \n",
       "15                                0.218                               0.008   \n",
       "16                                0.454                               0.014   \n",
       "17                                0.702                               0.022   \n",
       "\n",
       "    Eval_001_ash2_11e_td_171128_am_max  \n",
       "13                               0.000  \n",
       "14                               0.000  \n",
       "15                               0.002  \n",
       "16                               0.006  \n",
       "17                               0.008  "
      ]
     },
     "execution_count": 4,
     "metadata": {},
     "output_type": "execute_result"
    }
   ],
   "source": [
    "df.iloc[13:,].head() # observations from 13th index where the psd starts to rise shown"
   ]
  },
  {
   "cell_type": "markdown",
   "id": "25ebd2bf",
   "metadata": {},
   "source": [
    "#### Figure S2A\n",
    "With 4 filter types and 2 test dust sample types, there will be 8 (four times two) figures. Given three statstical properties (mean, min, and max). This will cause two for loops inside each other, as coded below:"
   ]
  },
  {
   "cell_type": "code",
   "execution_count": 5,
   "id": "a49f3686",
   "metadata": {},
   "outputs": [
    {
     "data": {
      "image/png": "[encoded data removed]",
      "text/plain": [
       "<Figure size 432x288 with 1 Axes>"
      ]
     },
     "metadata": {
      "needs_background": "light"
     },
     "output_type": "display_data"
    }
   ],
   "source": [
    "plt.figure()\n",
    "plt.errorbar(df['Size'], df.iloc[:,1],\n",
    "             yerr = [df.iloc[:,2], df.iloc[:,3]],\n",
    "             xerr = None,\n",
    "             capsize = 3, c = \"r\", ecolor = 'k', elinewidth = 0.5, capthick = 0.5,\n",
    "             label = 'ISO Fine')\n",
    " \n",
    "plt.errorbar(df['Size'], df.iloc[:,4],\n",
    "             yerr = [df.iloc[:,5], df.iloc[:,6]],\n",
    "             xerr = None,\n",
    "             capsize = 3, c = \"b\", ecolor = 'k', elinewidth = 0.5, capthick = 0.5,\n",
    "             label = 'ASHRAE #2')\n",
    "\n",
    "plt.xscale('log')\n",
    "\n",
    "plt.xlim(0.3, 3000)\n",
    "a = [0.3, 1, 3, 10, 30, 100, 300, 1000, 3000]\n",
    "plt.xticks(ticks = a, labels = a)\n",
    "plt.minorticks_off()\n",
    "plt.xlabel('Particle Size (µm)', size = 14)\n",
    "\n",
    "plt.ylim(0, 4)\n",
    "plt.yticks(np.arange(0, 5, step=1))\n",
    "plt.ylabel('Volume Distribution (%)', size = 14)\n",
    "\n",
    "plt.tick_params(axis = 'both', direction = 'inout')\n",
    "\n",
    "ax = plt.gca()\n",
    "\n",
    "handles, labels = ax.get_legend_handles_labels()\n",
    "\n",
    "new_handles = []\n",
    "\n",
    "for h in handles:\n",
    "    #only need to edit the errorbar legend entries\n",
    "    if isinstance(h, container.ErrorbarContainer):\n",
    "        new_handles.append(h[0])\n",
    "    else:\n",
    "        new_handles.append(h)\n",
    "\n",
    "ax.legend(new_handles, labels, loc = 1, frameon = True, edgecolor = 'black', framealpha=1)\n",
    "\n",
    "plt.savefig(r'FigureS2.jpg', format='jpg', dpi=1600, bbox_inches='tight')"
   ]
  },
  {
   "cell_type": "markdown",
   "id": "a41ed63e",
   "metadata": {},
   "source": [
    "end of the code"
   ]
  },
  {
   "cell_type": "markdown",
   "id": "f031eaf0",
   "metadata": {},
   "source": [
    "#### Figure S2A\n"
   ]
  },
  {
   "cell_type": "code",
   "execution_count": 6,
   "id": "09a6c15c",
   "metadata": {},
   "outputs": [],
   "source": [
    "df = pd.read_excel(backslash_correct(r'QA_ldps_iso.xlsx'))\n",
    "df = pd.concat([df.iloc[1:,0],df.iloc[1:,8:11], df.iloc[1:,12:15]], axis = 1)\n",
    "\n",
    "# Converting min/max values to the the magnitude of the error bars\n",
    "df.iloc[:,2] = df.iloc[:,1] - df.iloc[:,2]\n",
    "df.iloc[:,3] = df.iloc[:,3] - df.iloc[:,1]\n",
    "\n",
    "df.iloc[:,5] = df.iloc[:,4] - df.iloc[:,5]\n",
    "df.iloc[:,6] = df.iloc[:,6] - df.iloc[:,4]"
   ]
  },
  {
   "cell_type": "code",
   "execution_count": 7,
   "id": "a7ca0a4d",
   "metadata": {},
   "outputs": [
    {
     "data": {
      "text/html": [
       "<div>\n",
       "<style scoped>\n",
       "    .dataframe tbody tr th:only-of-type {\n",
       "        vertical-align: middle;\n",
       "    }\n",
       "\n",
       "    .dataframe tbody tr th {\n",
       "        vertical-align: top;\n",
       "    }\n",
       "\n",
       "    .dataframe thead th {\n",
       "        text-align: right;\n",
       "    }\n",
       "</style>\n",
       "<table border=\"1\" class=\"dataframe\">\n",
       "  <thead>\n",
       "    <tr style=\"text-align: right;\">\n",
       "      <th></th>\n",
       "      <th>Size_Below</th>\n",
       "      <th>mes_mea</th>\n",
       "      <th>mes_min</th>\n",
       "      <th>mes_max</th>\n",
       "      <th>pti_mea</th>\n",
       "      <th>pti_min</th>\n",
       "      <th>pti_max</th>\n",
       "    </tr>\n",
       "  </thead>\n",
       "  <tbody>\n",
       "    <tr>\n",
       "      <th>1</th>\n",
       "      <td>0.97</td>\n",
       "      <td>4.098</td>\n",
       "      <td>0.008</td>\n",
       "      <td>0.012</td>\n",
       "      <td>5.00</td>\n",
       "      <td>0.50</td>\n",
       "      <td>0.50</td>\n",
       "    </tr>\n",
       "    <tr>\n",
       "      <th>2</th>\n",
       "      <td>1.38</td>\n",
       "      <td>8.644</td>\n",
       "      <td>0.014</td>\n",
       "      <td>0.026</td>\n",
       "      <td>8.75</td>\n",
       "      <td>0.75</td>\n",
       "      <td>0.75</td>\n",
       "    </tr>\n",
       "    <tr>\n",
       "      <th>3</th>\n",
       "      <td>2.75</td>\n",
       "      <td>21.736</td>\n",
       "      <td>0.056</td>\n",
       "      <td>0.054</td>\n",
       "      <td>22.30</td>\n",
       "      <td>1.00</td>\n",
       "      <td>1.00</td>\n",
       "    </tr>\n",
       "    <tr>\n",
       "      <th>4</th>\n",
       "      <td>5.50</td>\n",
       "      <td>41.842</td>\n",
       "      <td>0.112</td>\n",
       "      <td>0.098</td>\n",
       "      <td>41.00</td>\n",
       "      <td>1.50</td>\n",
       "      <td>1.50</td>\n",
       "    </tr>\n",
       "    <tr>\n",
       "      <th>5</th>\n",
       "      <td>11.00</td>\n",
       "      <td>60.246</td>\n",
       "      <td>0.116</td>\n",
       "      <td>0.134</td>\n",
       "      <td>58.25</td>\n",
       "      <td>1.25</td>\n",
       "      <td>1.25</td>\n",
       "    </tr>\n",
       "  </tbody>\n",
       "</table>\n",
       "</div>"
      ],
      "text/plain": [
       "   Size_Below  mes_mea  mes_min  mes_max  pti_mea  pti_min  pti_max\n",
       "1        0.97    4.098    0.008    0.012     5.00     0.50     0.50\n",
       "2        1.38    8.644    0.014    0.026     8.75     0.75     0.75\n",
       "3        2.75   21.736    0.056    0.054    22.30     1.00     1.00\n",
       "4        5.50   41.842    0.112    0.098    41.00     1.50     1.50\n",
       "5       11.00   60.246    0.116    0.134    58.25     1.25     1.25"
      ]
     },
     "execution_count": 7,
     "metadata": {},
     "output_type": "execute_result"
    }
   ],
   "source": [
    "df.head()"
   ]
  },
  {
   "cell_type": "code",
   "execution_count": 8,
   "id": "be4bb678",
   "metadata": {},
   "outputs": [
    {
     "data": {
      "image/png": "[encoded data removed]",
      "text/plain": [
       "<Figure size 432x288 with 1 Axes>"
      ]
     },
     "metadata": {
      "needs_background": "light"
     },
     "output_type": "display_data"
    }
   ],
   "source": [
    "plt.figure()\n",
    "plt.errorbar(df['Size_Below'], df.iloc[:,1],\n",
    "             yerr = [df.iloc[:,2], df.iloc[:,3]],\n",
    "             xerr = None,\n",
    "             capsize = 3, c = \"k\", ecolor = 'k', elinewidth = 0.5, capthick = 0.5,\n",
    "             label = 'Measured')\n",
    " \n",
    "plt.errorbar(df['Size_Below'], df.iloc[:,4],\n",
    "             yerr = [df.iloc[:,5], df.iloc[:,6]],\n",
    "             xerr = None,\n",
    "             capsize = 3, c = \"k\", ecolor = 'k', linestyle = '--', elinewidth = 0.5, capthick = 0.5,\n",
    "             label = 'Published')\n",
    "\n",
    "plt.xscale('log')\n",
    "\n",
    "plt.xlim(1, 300)\n",
    "a = [1, 3, 10, 30, 100, 300]\n",
    "plt.xticks(ticks = a, labels = a)\n",
    "plt.minorticks_off()\n",
    "plt.xlabel('Particle Size (µm)', size = 14)\n",
    "\n",
    "plt.ylim(0, 100)\n",
    "plt.yticks(np.arange(0, 101, step=20))\n",
    "plt.ylabel('Cumulative Volume Distribution (%)', size = 12)\n",
    "\n",
    "plt.tick_params(axis = 'both', direction = 'inout')\n",
    "\n",
    "ax = plt.gca()\n",
    "\n",
    "handles, labels = ax.get_legend_handles_labels()\n",
    "\n",
    "new_handles = []\n",
    "\n",
    "for h in handles:\n",
    "    #only need to edit the errorbar legend entries\n",
    "    if isinstance(h, container.ErrorbarContainer):\n",
    "        new_handles.append(h[0])\n",
    "    else:\n",
    "        new_handles.append(h)\n",
    "\n",
    "ax.legend(new_handles, labels, loc = 2, frameon = True, edgecolor = 'black', framealpha=1)\n",
    "\n",
    "plt.savefig(r'FigureS2a.jpg', format='jpg', dpi=1600, bbox_inches='tight')\n"
   ]
  },
  {
   "cell_type": "markdown",
   "id": "d5e39a40",
   "metadata": {},
   "source": [
    "End of Code"
   ]
  },
  {
   "cell_type": "code",
   "execution_count": null,
   "id": "9e9b4864",
   "metadata": {},
   "outputs": [],
   "source": []
  }
 ],
 "metadata": {
  "kernelspec": {
   "display_name": "Python 3 (ipykernel)",
   "language": "python",
   "name": "python3"
  },
  "language_info": {
   "codemirror_mode": {
    "name": "ipython",
    "version": 3
   },
   "file_extension": ".py",
   "mimetype": "text/x-python",
   "name": "python",
   "nbconvert_exporter": "python",
   "pygments_lexer": "ipython3",
   "version": "3.9.7"
  }
 },
 "nbformat": 4,
 "nbformat_minor": 5
}
