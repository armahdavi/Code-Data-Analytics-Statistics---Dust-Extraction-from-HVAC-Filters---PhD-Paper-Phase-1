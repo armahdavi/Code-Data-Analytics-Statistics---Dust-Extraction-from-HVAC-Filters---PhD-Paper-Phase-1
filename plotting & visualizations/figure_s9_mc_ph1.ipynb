{
 "cells": [
  {
   "cell_type": "markdown",
   "id": "3b2cd52a",
   "metadata": {},
   "source": [
    "#### Figure S9A in M&S (2020) AS&T\n",
    "\n",
    "This figure exists in the supplemental infromation (SI).\n",
    "\n",
    "The figure illustrated a varying mass closure across all the tested filters (in 11 out of 20 tests where the second or later extraction cycles were performed). Mass closure is a measure of controlled mass (measurable wheter or not recovered) during a recovery process to the total existing dust mass loading a filter. A higher mass closure can indicate a better control over handled masses of dust and vice versa. \n",
    "\n",
    "Plot type: Box plot."
   ]
  },
  {
   "cell_type": "code",
   "execution_count": 2,
   "id": "c768ee3f",
   "metadata": {},
   "outputs": [],
   "source": [
    "from matplotlib import pyplot as plt\n",
    "import pandas as pd\n",
    "import numpy as np\n",
    "\n",
    "df = pd.read_excel(r'artl_dataset_summary.xlsx')\n",
    "df = df[df['Cycle_N'] < 3]\n",
    "\n",
    "df1 = df[df['Cycle_N'] == 1]['M_C_cum'].dropna()\n",
    "df2 = df[df['Cycle_N'] == 2]['M_C_cum'].dropna()\n"
   ]
  },
  {
   "cell_type": "code",
   "execution_count": 7,
   "id": "47086879",
   "metadata": {},
   "outputs": [
    {
     "data": {
      "text/html": [
       "<div>\n",
       "<style scoped>\n",
       "    .dataframe tbody tr th:only-of-type {\n",
       "        vertical-align: middle;\n",
       "    }\n",
       "\n",
       "    .dataframe tbody tr th {\n",
       "        vertical-align: top;\n",
       "    }\n",
       "\n",
       "    .dataframe thead th {\n",
       "        text-align: right;\n",
       "    }\n",
       "</style>\n",
       "<table border=\"1\" class=\"dataframe\">\n",
       "  <thead>\n",
       "    <tr style=\"text-align: right;\">\n",
       "      <th></th>\n",
       "      <th>ExpN</th>\n",
       "      <th>Cycle_N</th>\n",
       "      <th>ft</th>\n",
       "      <th>td</th>\n",
       "      <th>M_C</th>\n",
       "      <th>M_C_cum</th>\n",
       "    </tr>\n",
       "  </thead>\n",
       "  <tbody>\n",
       "    <tr>\n",
       "      <th>0</th>\n",
       "      <td>1</td>\n",
       "      <td>1</td>\n",
       "      <td>3</td>\n",
       "      <td>2</td>\n",
       "      <td>78.298640</td>\n",
       "      <td>78.298640</td>\n",
       "    </tr>\n",
       "    <tr>\n",
       "      <th>1</th>\n",
       "      <td>2</td>\n",
       "      <td>1</td>\n",
       "      <td>3</td>\n",
       "      <td>2</td>\n",
       "      <td>46.011796</td>\n",
       "      <td>46.011796</td>\n",
       "    </tr>\n",
       "    <tr>\n",
       "      <th>2</th>\n",
       "      <td>2</td>\n",
       "      <td>2</td>\n",
       "      <td>3</td>\n",
       "      <td>2</td>\n",
       "      <td>40.565891</td>\n",
       "      <td>44.635651</td>\n",
       "    </tr>\n",
       "    <tr>\n",
       "      <th>3</th>\n",
       "      <td>3</td>\n",
       "      <td>1</td>\n",
       "      <td>3</td>\n",
       "      <td>1</td>\n",
       "      <td>40.584992</td>\n",
       "      <td>40.584992</td>\n",
       "    </tr>\n",
       "    <tr>\n",
       "      <th>4</th>\n",
       "      <td>3</td>\n",
       "      <td>2</td>\n",
       "      <td>3</td>\n",
       "      <td>1</td>\n",
       "      <td>44.306667</td>\n",
       "      <td>40.968407</td>\n",
       "    </tr>\n",
       "  </tbody>\n",
       "</table>\n",
       "</div>"
      ],
      "text/plain": [
       "   ExpN  Cycle_N  ft  td        M_C    M_C_cum\n",
       "0     1        1   3   2  78.298640  78.298640\n",
       "1     2        1   3   2  46.011796  46.011796\n",
       "2     2        2   3   2  40.565891  44.635651\n",
       "3     3        1   3   1  40.584992  40.584992\n",
       "4     3        2   3   1  44.306667  40.968407"
      ]
     },
     "execution_count": 7,
     "metadata": {},
     "output_type": "execute_result"
    }
   ],
   "source": [
    "df[['ExpN', 'Cycle_N', 'ft', 'td', 'M_C', 'M_C_cum']].head()"
   ]
  },
  {
   "cell_type": "code",
   "execution_count": 8,
   "id": "72976698",
   "metadata": {},
   "outputs": [
    {
     "data": {
      "image/png": "[encoded data removed]",
      "text/plain": [
       "<Figure size 432x288 with 1 Axes>"
      ]
     },
     "metadata": {
      "needs_background": "light"
     },
     "output_type": "display_data"
    }
   ],
   "source": [
    "plt.figure()\n",
    "\n",
    "box1 = plt.boxplot(df1, positions = [1], boxprops=dict(facecolor= 'grey', color= 'k'), \n",
    "                   widths = 0.7, showfliers = False, patch_artist = True, medianprops = dict(linestyle = '-', linewidth = 0.5, color = 'k'))\n",
    "box2 = plt.boxplot(df2, positions = [2],boxprops=dict(facecolor= 'lightcoral', color= 'r'),\n",
    "                   capprops = dict(color = 'r'),\n",
    "                   whiskerprops = dict(color = 'r'),\n",
    "                   flierprops = dict(color = 'r', markeredgecolor = 'r'),\n",
    "                   widths = 0.7, showfliers = False, patch_artist = True, medianprops = dict(linestyle = '-', linewidth = 0.5, color = 'r'))\n",
    "\n",
    "plt.xticks([])\n",
    "\n",
    "plt.ylim(0.0, 110)\n",
    "plt.yticks(np.arange(0, 101, step = 20))\n",
    "plt.ylabel('Cumulative Mass Closure (%)', size = 14)\n",
    "plt.tick_params(axis = 'y', direction = 'inout')\n",
    "\n",
    "plt.text(1.5, -8, 'All Filters', fontsize = 12, ha = 'center')\n",
    "\n",
    "plt.text(1, 104, 'n=20', fontsize = 8, rotation = 90, va = 'center', ha='center')\n",
    "plt.text(2, 104, 'n=11', fontsize = 8, rotation = 90, va = 'center', ha='center')\n",
    "\n",
    "plt.savefig(r'FigureS9a.jpg', format='jpg', dpi=1600, bbox_inches='tight')\n"
   ]
  },
  {
   "cell_type": "markdown",
   "id": "60e3be95",
   "metadata": {},
   "source": [
    "End of code"
   ]
  },
  {
   "cell_type": "code",
   "execution_count": null,
   "id": "4941e4a7",
   "metadata": {},
   "outputs": [],
   "source": []
  }
 ],
 "metadata": {
  "kernelspec": {
   "display_name": "Python 3 (ipykernel)",
   "language": "python",
   "name": "python3"
  },
  "language_info": {
   "codemirror_mode": {
    "name": "ipython",
    "version": 3
   },
   "file_extension": ".py",
   "mimetype": "text/x-python",
   "name": "python",
   "nbconvert_exporter": "python",
   "pygments_lexer": "ipython3",
   "version": "3.9.7"
  }
 },
 "nbformat": 4,
 "nbformat_minor": 5
}
