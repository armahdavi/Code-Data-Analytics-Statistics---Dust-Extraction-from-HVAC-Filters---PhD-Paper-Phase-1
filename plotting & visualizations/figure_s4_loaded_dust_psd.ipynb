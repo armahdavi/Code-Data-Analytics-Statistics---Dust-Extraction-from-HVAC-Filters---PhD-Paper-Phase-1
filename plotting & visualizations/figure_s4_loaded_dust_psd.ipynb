{
 "cells": [
  {
   "cell_type": "markdown",
   "id": "58e5d217",
   "metadata": {},
   "source": [
    "#### Figure S4 in Mahdavi & Siegel (2020) AS&T\n",
    "The figure is in the supplemental information (SI).\n",
    "\n",
    "This figure aims to illustrate minimal differences between the sprinkled dust over a filter and the loaded dust from the loading procedure.\n",
    "\n",
    "Plot type: Line plot."
   ]
  },
  {
   "cell_type": "code",
   "execution_count": 2,
   "id": "80911fb9",
   "metadata": {},
   "outputs": [],
   "source": [
    "from matplotlib import pyplot as plt\n",
    "from matplotlib import container\n",
    "import pandas as pd\n",
    "import numpy as np"
   ]
  },
  {
   "cell_type": "code",
   "execution_count": 4,
   "id": "042a56a4",
   "metadata": {},
   "outputs": [],
   "source": [
    "df = pd.read_excel(r'MS_extraction_evaluation_016_180405_am.xlsx', sheet_name = 'Outcome')\n",
    "\n",
    "# calculating the error bar magnitudes\n",
    "df['Unnamed: 5'] = (df['Max,STD'] - df['Min,STD'])/2\n",
    "df['Unnamed: 13'] = (df['Max,STD'] - df['Min,STD'])/2\n",
    "\n",
    "df.rename(columns={'Unnamed: 5': 'Error_STD',\n",
    "                   'Unnamed: 13': 'Error_FG'}, inplace = True)\n",
    "\n",
    "# errors from combination of two parameters summed up\n",
    "df['Error_filter'] = np.sqrt(df['Error_STD'].pow(2) + df['Error_FG'].pow(2))\n",
    "\n",
    "df.loc[df['Filter'] < 0, 'Filter'] = 0 # getting rid of negative values due to back calculation of bad data due to small values\n"
   ]
  },
  {
   "cell_type": "code",
   "execution_count": 9,
   "id": "ad8fbc70",
   "metadata": {},
   "outputs": [
    {
     "data": {
      "text/html": [
       "<div>\n",
       "<style scoped>\n",
       "    .dataframe tbody tr th:only-of-type {\n",
       "        vertical-align: middle;\n",
       "    }\n",
       "\n",
       "    .dataframe tbody tr th {\n",
       "        vertical-align: top;\n",
       "    }\n",
       "\n",
       "    .dataframe thead th {\n",
       "        text-align: right;\n",
       "    }\n",
       "</style>\n",
       "<table border=\"1\" class=\"dataframe\">\n",
       "  <thead>\n",
       "    <tr style=\"text-align: right;\">\n",
       "      <th></th>\n",
       "      <th>Particle Size</th>\n",
       "      <th>STD</th>\n",
       "      <th>Filter</th>\n",
       "      <th>Error_STD</th>\n",
       "      <th>Error_FG</th>\n",
       "      <th>Error_filter</th>\n",
       "    </tr>\n",
       "  </thead>\n",
       "  <tbody>\n",
       "    <tr>\n",
       "      <th>14</th>\n",
       "      <td>0.501</td>\n",
       "      <td>0.090</td>\n",
       "      <td>0.097629</td>\n",
       "      <td>0.000</td>\n",
       "      <td>0.000</td>\n",
       "      <td>0.000000</td>\n",
       "    </tr>\n",
       "    <tr>\n",
       "      <th>15</th>\n",
       "      <td>0.562</td>\n",
       "      <td>0.292</td>\n",
       "      <td>0.312343</td>\n",
       "      <td>0.005</td>\n",
       "      <td>0.005</td>\n",
       "      <td>0.007071</td>\n",
       "    </tr>\n",
       "    <tr>\n",
       "      <th>16</th>\n",
       "      <td>0.631</td>\n",
       "      <td>0.608</td>\n",
       "      <td>0.652755</td>\n",
       "      <td>0.005</td>\n",
       "      <td>0.005</td>\n",
       "      <td>0.007071</td>\n",
       "    </tr>\n",
       "    <tr>\n",
       "      <th>17</th>\n",
       "      <td>0.708</td>\n",
       "      <td>0.922</td>\n",
       "      <td>0.991167</td>\n",
       "      <td>0.005</td>\n",
       "      <td>0.005</td>\n",
       "      <td>0.007071</td>\n",
       "    </tr>\n",
       "    <tr>\n",
       "      <th>18</th>\n",
       "      <td>0.794</td>\n",
       "      <td>1.192</td>\n",
       "      <td>1.284053</td>\n",
       "      <td>0.005</td>\n",
       "      <td>0.005</td>\n",
       "      <td>0.007071</td>\n",
       "    </tr>\n",
       "  </tbody>\n",
       "</table>\n",
       "</div>"
      ],
      "text/plain": [
       "    Particle Size    STD    Filter  Error_STD  Error_FG  Error_filter\n",
       "14          0.501  0.090  0.097629      0.000     0.000      0.000000\n",
       "15          0.562  0.292  0.312343      0.005     0.005      0.007071\n",
       "16          0.631  0.608  0.652755      0.005     0.005      0.007071\n",
       "17          0.708  0.922  0.991167      0.005     0.005      0.007071\n",
       "18          0.794  1.192  1.284053      0.005     0.005      0.007071"
      ]
     },
     "execution_count": 9,
     "metadata": {},
     "output_type": "execute_result"
    }
   ],
   "source": [
    "df[['Particle Size', 'STD', 'Filter', 'Error_STD', 'Error_FG', 'Error_filter']].iloc[14:,:].head() \n",
    "# from 14th index shown where psd starts to rise"
   ]
  },
  {
   "cell_type": "code",
   "execution_count": 10,
   "id": "c75d1a1e",
   "metadata": {},
   "outputs": [
    {
     "data": {
      "text/plain": [
       "Text(0.5, 4.5, 'n = 1')"
      ]
     },
     "execution_count": 10,
     "metadata": {},
     "output_type": "execute_result"
    },
    {
     "data": {
      "image/png": "[encoded data removed]",
      "text/plain": [
       "<Figure size 432x288 with 1 Axes>"
      ]
     },
     "metadata": {
      "needs_background": "light"
     },
     "output_type": "display_data"
    }
   ],
   "source": [
    "plt.figure()\n",
    "plt.errorbar(df['Particle Size'], df['STD'],\n",
    "             yerr = [df['Error_STD'], df['Error_STD']],\n",
    "             xerr = None,\n",
    "             capsize = 3, c = \"r\", ecolor = 'k', elinewidth = 0.5, capthick = 0.5,\n",
    "             label = 'Standardized Test Dust: ISO')\n",
    " \n",
    "plt.errorbar(df['Particle Size'], df['Filter'],\n",
    "             yerr = [df['Error_filter'], df['Error_filter']],\n",
    "             xerr = None,\n",
    "             capsize = 3, c = \"b\", ecolor = 'k', elinewidth = 0.5, capthick = 0.5,\n",
    "             label = 'Dust Captured in Filter')\n",
    "\n",
    "plt.xscale('log')\n",
    "\n",
    "plt.xlim(0.3, 300)\n",
    "a = [0.3, 1, 3, 10, 30, 100, 300]\n",
    "plt.xticks(ticks = a, labels = a)\n",
    "plt.minorticks_off()\n",
    "plt.xlabel('Particle Size (µm)', size = 14)\n",
    "\n",
    "plt.ylim(0, 5)\n",
    "plt.yticks(np.arange(0, 6, step=1))\n",
    "plt.ylabel('Volume Distribution (%)', size = 14)\n",
    "\n",
    "plt.tick_params(axis = 'both', direction = 'inout')\n",
    "\n",
    "ax = plt.gca()\n",
    "\n",
    "handles, labels = ax.get_legend_handles_labels()\n",
    "\n",
    "new_handles = []\n",
    "\n",
    "for h in handles:\n",
    "    #only need to edit the errorbar legend entries\n",
    "    if isinstance(h, container.ErrorbarContainer):\n",
    "        new_handles.append(h[0])\n",
    "    else:\n",
    "        new_handles.append(h)\n",
    "\n",
    "ax.legend(new_handles, labels, loc = 1, frameon = True, edgecolor = 'black', framealpha=1)\n",
    "plt.text(0.5, 4.5, 'n = 1')\n"
   ]
  },
  {
   "cell_type": "markdown",
   "id": "eee481de",
   "metadata": {},
   "source": [
    "End of code"
   ]
  },
  {
   "cell_type": "code",
   "execution_count": null,
   "id": "806b7993",
   "metadata": {},
   "outputs": [],
   "source": []
  }
 ],
 "metadata": {
  "kernelspec": {
   "display_name": "Python 3 (ipykernel)",
   "language": "python",
   "name": "python3"
  },
  "language_info": {
   "codemirror_mode": {
    "name": "ipython",
    "version": 3
   },
   "file_extension": ".py",
   "mimetype": "text/x-python",
   "name": "python",
   "nbconvert_exporter": "python",
   "pygments_lexer": "ipython3",
   "version": "3.9.7"
  }
 },
 "nbformat": 4,
 "nbformat_minor": 5
}
