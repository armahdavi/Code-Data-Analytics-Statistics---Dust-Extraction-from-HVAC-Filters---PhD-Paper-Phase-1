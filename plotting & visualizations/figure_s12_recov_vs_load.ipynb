{
 "cells": [
  {
   "cell_type": "markdown",
   "id": "3e49a83b",
   "metadata": {},
   "source": [
    "#### Figure S12 A-D in M&S (2020) AS&T\n",
    "This figure illustrated mass recovery data from all filters in Phase 1 in terms of the loaded dust mass in filters for the following cases:\n",
    "A) After a single extraction cycle;\n",
    "B) After two extraction cycles (only those that went through at least two extraction cycles);\n",
    "C) After the maximum number of cycles applied (varying from 1 to 7);\n",
    "D) After the maximum number of cycles applied for the filters that experienced at least two extraction cycles.\n",
    "\n",
    "In general, there is a fair correlation between the loaded mass and the dust recovered partocularly if more than one extraction cycle is performed.\n",
    "\n",
    "Plot type: Scatter plot"
   ]
  },
  {
   "cell_type": "code",
   "execution_count": 2,
   "id": "399c0a79",
   "metadata": {},
   "outputs": [],
   "source": [
    "### Initial code\n",
    "### Color code stands for different cycles\n",
    "### Marker shape code stands for extraction from a certain type\n",
    "\n",
    "from matplotlib import pyplot as plt\n",
    "import pandas as pd\n",
    "import numpy as np\n",
    "\n",
    "marker_dict = {1: 'o',\n",
    "               2: 's',\n",
    "               3: '^',\n",
    "               4: 'D'}"
   ]
  },
  {
   "cell_type": "code",
   "execution_count": 3,
   "id": "2f7ad9d3",
   "metadata": {},
   "outputs": [
    {
     "data": {
      "image/png": "[encoded data removed]",
      "text/plain": [
       "<Figure size 432x288 with 1 Axes>"
      ]
     },
     "metadata": {
      "needs_background": "light"
     },
     "output_type": "display_data"
    }
   ],
   "source": [
    "#######################\n",
    "### After 1st Cycle ###\n",
    "#######################\n",
    "\n",
    "fill_dict = {1: 'k',\n",
    "             2: 'white'}\n",
    "\n",
    "df = pd.read_excel('artl_dataset_summary.xlsx')\n",
    "df = df[df['Cycle_N'] == 1]\n",
    "\n",
    "plt.figure()\n",
    "for t in df['td'].unique():\n",
    "    for f in df['ft'].unique():\n",
    "        plt.scatter(df.loc[(df['td'] == t) & (df['ft'] == f), 'dustmass'],\n",
    "                    df.loc[(df['td'] == t) & (df['ft'] == f), 'M_t_cum'], s = 15,\n",
    "                    marker = marker_dict[f], c = fill_dict[t], edgecolor = 'k')\n",
    "\n",
    "plt.ylim(0, 2)\n",
    "plt.yticks(np.arange(0, 2.1, step = 0.5))\n",
    "plt.ylabel('Cumulative Mass Recovered (g)', size = 10)\n",
    "\n",
    "plt.xlim(0, 15)\n",
    "plt.xticks(np.arange(0, 15, step = 2))\n",
    "plt.xlabel('Loaded Mass (g)', size = 10)\n",
    "\n",
    "plt.tick_params(axis = 'both', direction = 'inout')\n",
    "\n",
    "plt.text(1.5, 1.85, r'$R^{2}$ = 0.61', ha = 'center', fontsize = 8)\n",
    "# plt.text(1.5, 1.85, r'$R_2$ = 0.61') # if subscript\n",
    "\n",
    "plt.savefig(r'FigureS12a.jpg', format = 'jpg', dpi = 1600, bbox_inches = 'tight')\n"
   ]
  },
  {
   "cell_type": "code",
   "execution_count": 4,
   "id": "074ff976",
   "metadata": {},
   "outputs": [
    {
     "data": {
      "image/png": "[encoded data removed]",
      "text/plain": [
       "<Figure size 432x288 with 1 Axes>"
      ]
     },
     "metadata": {
      "needs_background": "light"
     },
     "output_type": "display_data"
    }
   ],
   "source": [
    "#######################\n",
    "### After 2nd Cycle ###\n",
    "#######################\n",
    "\n",
    "fill_dict = {1: 'r',\n",
    "             2: 'white'}\n",
    "\n",
    "df = pd.read_excel(r'artl_dataset_summary.xlsx')\n",
    "df = df[df['Cycle_N'] == 2]\n",
    "\n",
    "plt.figure()\n",
    "for t in df['td'].unique():\n",
    "    for f in df['ft'].unique():\n",
    "        plt.scatter(df.loc[(df['td'] == t) & (df['ft'] == f), 'dustmass'],\n",
    "                    df.loc[(df['td'] == t) & (df['ft'] == f), 'M_t_cum'], s = 15,\n",
    "                    marker = marker_dict[f], c = fill_dict[t], edgecolor = 'r')\n",
    "\n",
    "plt.ylim(0, 2)\n",
    "plt.yticks(np.arange(0, 2.1, step = 0.5))\n",
    "plt.ylabel('Cumulative Mass Recovered (g)', size = 10)\n",
    "\n",
    "plt.xlim(0, 15)\n",
    "plt.xticks(np.arange(0, 15, step = 2))\n",
    "plt.xlabel('Loaded Mass (g)', size = 10)\n",
    "\n",
    "plt.tick_params(axis = 'both', direction = 'inout')\n",
    "\n",
    "plt.text(1.5, 1.85, r'$R^{2}$ = 0.39', ha = 'center', fontsize = 8)\n",
    "\n",
    "plt.savefig(r'FigureS12b.jpg', format = 'jpg', dpi = 1600, bbox_inches = 'tight')\n"
   ]
  },
  {
   "cell_type": "code",
   "execution_count": 5,
   "id": "aea074e9",
   "metadata": {},
   "outputs": [
    {
     "data": {
      "image/png": "[encoded data removed]",
      "text/plain": [
       "<Figure size 432x288 with 1 Axes>"
      ]
     },
     "metadata": {
      "needs_background": "light"
     },
     "output_type": "display_data"
    }
   ],
   "source": [
    "#######################\n",
    "### After Max Cycle ###\n",
    "#######################\n",
    "\n",
    "col_dict = {1: 'k',\n",
    "            2: 'r',\n",
    "            3: 'b',\n",
    "            7: 'g'}\n",
    "\n",
    "df = pd.read_excel(r'artl_dataset_summary_collapsed.xlsx')\n",
    "\n",
    "plt.figure()\n",
    "for t in df['td'].unique():\n",
    "    for f in df['ft'].unique():\n",
    "        for c in df['Cycle_N'].unique():\n",
    "            if t == 1:\n",
    "                plt.scatter(df.loc[(df['td'] == t) & (df['ft'] == f) & (df['Cycle_N'] == c), 'dustmass'],\n",
    "                            df.loc[(df['td'] == t) & (df['ft'] == f) & (df['Cycle_N'] == c), 'M_t_cum'], s = 15,\n",
    "                            marker = marker_dict[f], c = col_dict[c], edgecolor = col_dict[c])\n",
    "            else: \n",
    "                plt.scatter(df.loc[(df['td'] == t) & (df['ft'] == f) & (df['Cycle_N'] == c), 'dustmass'],\n",
    "                            df.loc[(df['td'] == t) & (df['ft'] == f) & (df['Cycle_N'] == c), 'M_t_cum'], s = 15,\n",
    "                            marker = marker_dict[f], c = 'white', edgecolor = col_dict[c])\n",
    "\n",
    "plt.ylim(0, 6)\n",
    "plt.yticks(np.arange(0, 6.1, step = 1))\n",
    "plt.ylabel('Cumulative Mass Recovered (g)', size = 10)\n",
    "\n",
    "plt.xlim(0, 15)\n",
    "plt.xticks(np.arange(0, 15, step = 2))\n",
    "plt.xlabel('Loaded Mass (g)', size = 10)\n",
    "\n",
    "plt.tick_params(axis = 'both', direction = 'inout')\n",
    "\n",
    "plt.text(1.5, 5.55, r'$R^{2}$ = 0.64', ha = 'center', fontsize = 8)\n",
    "\n",
    "plt.savefig(r'FigureS12c.jpg', format = 'jpg', dpi = 1600, bbox_inches = 'tight')\n"
   ]
  },
  {
   "cell_type": "code",
   "execution_count": 6,
   "id": "1a3bae2f",
   "metadata": {},
   "outputs": [
    {
     "data": {
      "image/png": "[encoded data removed]",
      "text/plain": [
       "<Figure size 432x288 with 1 Axes>"
      ]
     },
     "metadata": {
      "needs_background": "light"
     },
     "output_type": "display_data"
    }
   ],
   "source": [
    "############################################\n",
    "### After Max Cycle for at Least 2-Cycle ###\n",
    "############################################\n",
    "\n",
    "df = pd.read_excel(r'artl_dataset_summary.xlsx')\n",
    "list_2 = list(df.loc[df['Cycle_N'] == 2, 'ExpN'].unique())\n",
    "\n",
    "df = pd.read_excel(r'artl_dataset_summary_collapsed.xlsx')\n",
    "df = df[df['ExpN'].isin(list_2)]\n",
    "\n",
    "col_dict = {2: 'r',\n",
    "            3: 'b',\n",
    "            7: 'g'}\n",
    "\n",
    "\n",
    "plt.figure()\n",
    "for t in df['td'].unique():\n",
    "    for f in df['ft'].unique():\n",
    "        for c in df['Cycle_N'].unique():\n",
    "            if t == 1:\n",
    "                plt.scatter(df.loc[(df['td'] == t) & (df['ft'] == f) & (df['Cycle_N'] == c), 'dustmass'],\n",
    "                            df.loc[(df['td'] == t) & (df['ft'] == f) & (df['Cycle_N'] == c), 'M_t_cum'], s = 15,\n",
    "                            marker = marker_dict[f], c = col_dict[c], edgecolor = col_dict[c])\n",
    "            else: \n",
    "                plt.scatter(df.loc[(df['td'] == t) & (df['ft'] == f) & (df['Cycle_N'] == c), 'dustmass'],\n",
    "                            df.loc[(df['td'] == t) & (df['ft'] == f) & (df['Cycle_N'] == c), 'M_t_cum'], s = 15,\n",
    "                            marker = marker_dict[f], c = 'white', edgecolor = col_dict[c])\n",
    "\n",
    "plt.ylim(0, 6)\n",
    "plt.yticks(np.arange(0, 6.1, step = 1))\n",
    "plt.ylabel('Cumulative Mass Recovered (g)', size = 10)\n",
    "\n",
    "plt.xlim(0, 15)\n",
    "plt.xticks(np.arange(0, 15, step = 2))\n",
    "plt.xlabel('Loaded Mass (g)', size = 10)\n",
    "\n",
    "plt.tick_params(axis = 'both', direction = 'inout')\n",
    "\n",
    "plt.text(1.5, 5.55, r'$R^{2}$ = 0.95', ha = 'center', fontsize = 8)\n",
    "\n",
    "plt.savefig(r'FigureS12d.jpg', format = 'jpg', dpi = 1600, bbox_inches = 'tight')\n"
   ]
  },
  {
   "cell_type": "markdown",
   "id": "80b9b3c9",
   "metadata": {},
   "source": [
    "End of code"
   ]
  },
  {
   "cell_type": "code",
   "execution_count": null,
   "id": "ce2c83d4",
   "metadata": {},
   "outputs": [],
   "source": []
  }
 ],
 "metadata": {
  "kernelspec": {
   "display_name": "Python 3 (ipykernel)",
   "language": "python",
   "name": "python3"
  },
  "language_info": {
   "codemirror_mode": {
    "name": "ipython",
    "version": 3
   },
   "file_extension": ".py",
   "mimetype": "text/x-python",
   "name": "python",
   "nbconvert_exporter": "python",
   "pygments_lexer": "ipython3",
   "version": "3.9.7"
  }
 },
 "nbformat": 4,
 "nbformat_minor": 5
}
