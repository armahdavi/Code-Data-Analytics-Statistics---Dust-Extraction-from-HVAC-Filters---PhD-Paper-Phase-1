{
 "cells": [
  {
   "cell_type": "markdown",
   "id": "5206a959",
   "metadata": {},
   "source": [
    "#### Figure S10A,B in M&S (2020) AS&T\n",
    "\n",
    "These figures illustrate the maximum recovery (and recovery efficiency) from every tested filters loaded with test dust samples. \n",
    "\n",
    "Plot type: Scatter plot"
   ]
  },
  {
   "cell_type": "code",
   "execution_count": 1,
   "id": "43500919",
   "metadata": {},
   "outputs": [],
   "source": [
    "from matplotlib import pyplot as plt\n",
    "import pandas as pd\n",
    "import numpy as np\n",
    "\n",
    "df = pd.read_excel(r'artl_dataset_summary_collapsed.xlsx')\n",
    "df['case'] = np.where(df['ft'] != 3, 1, 2)\n",
    "\n",
    "df.sort_values(['td' , 'case'], inplace=True)\n",
    "i = 1\n",
    "for t in df['td'].unique():\n",
    "    for c in df['case'].unique():\n",
    "        df.loc[(df['td'] == t) & (df['case'] == c), 'counter'] = i\n",
    "        i += 1\n",
    "\n",
    "marker_dict = {1: 'o',\n",
    "               2: 's',\n",
    "               3: '^',\n",
    "               4: 'D'}\n",
    "\n",
    "fill_dict = {1: 'k',\n",
    "             2: 'white'}\n"
   ]
  },
  {
   "cell_type": "code",
   "execution_count": 3,
   "id": "14ef8928",
   "metadata": {},
   "outputs": [
    {
     "data": {
      "text/html": [
       "<div>\n",
       "<style scoped>\n",
       "    .dataframe tbody tr th:only-of-type {\n",
       "        vertical-align: middle;\n",
       "    }\n",
       "\n",
       "    .dataframe tbody tr th {\n",
       "        vertical-align: top;\n",
       "    }\n",
       "\n",
       "    .dataframe thead th {\n",
       "        text-align: right;\n",
       "    }\n",
       "</style>\n",
       "<table border=\"1\" class=\"dataframe\">\n",
       "  <thead>\n",
       "    <tr style=\"text-align: right;\">\n",
       "      <th></th>\n",
       "      <th>ExpN</th>\n",
       "      <th>Cycle_N</th>\n",
       "      <th>M_d_cum</th>\n",
       "      <th>M_s_cum</th>\n",
       "      <th>M_t_cum</th>\n",
       "      <th>CE_cum</th>\n",
       "      <th>sCE_cum</th>\n",
       "      <th>tCE_cum</th>\n",
       "      <th>d_t_rat_cum</th>\n",
       "      <th>ft</th>\n",
       "      <th>td</th>\n",
       "      <th>dustmass</th>\n",
       "      <th>M_filter_change_cum</th>\n",
       "      <th>case</th>\n",
       "      <th>counter</th>\n",
       "    </tr>\n",
       "  </thead>\n",
       "  <tbody>\n",
       "    <tr>\n",
       "      <th>9</th>\n",
       "      <td>11</td>\n",
       "      <td>1</td>\n",
       "      <td>0.11323</td>\n",
       "      <td>0.00000</td>\n",
       "      <td>0.11323</td>\n",
       "      <td>14.048387</td>\n",
       "      <td>0.000000</td>\n",
       "      <td>14.048387</td>\n",
       "      <td>1.000000</td>\n",
       "      <td>2</td>\n",
       "      <td>1</td>\n",
       "      <td>0.806</td>\n",
       "      <td>0.210</td>\n",
       "      <td>1</td>\n",
       "      <td>1.0</td>\n",
       "    </tr>\n",
       "    <tr>\n",
       "      <th>14</th>\n",
       "      <td>16</td>\n",
       "      <td>1</td>\n",
       "      <td>0.38847</td>\n",
       "      <td>0.00000</td>\n",
       "      <td>0.38847</td>\n",
       "      <td>33.005098</td>\n",
       "      <td>0.000000</td>\n",
       "      <td>33.005098</td>\n",
       "      <td>1.000000</td>\n",
       "      <td>2</td>\n",
       "      <td>1</td>\n",
       "      <td>1.177</td>\n",
       "      <td>0.584</td>\n",
       "      <td>1</td>\n",
       "      <td>1.0</td>\n",
       "    </tr>\n",
       "    <tr>\n",
       "      <th>16</th>\n",
       "      <td>18</td>\n",
       "      <td>2</td>\n",
       "      <td>0.60909</td>\n",
       "      <td>0.00000</td>\n",
       "      <td>0.60909</td>\n",
       "      <td>31.283513</td>\n",
       "      <td>0.000000</td>\n",
       "      <td>31.283513</td>\n",
       "      <td>1.000000</td>\n",
       "      <td>4</td>\n",
       "      <td>1</td>\n",
       "      <td>1.947</td>\n",
       "      <td>1.057</td>\n",
       "      <td>1</td>\n",
       "      <td>1.0</td>\n",
       "    </tr>\n",
       "    <tr>\n",
       "      <th>18</th>\n",
       "      <td>20</td>\n",
       "      <td>2</td>\n",
       "      <td>0.25393</td>\n",
       "      <td>0.00000</td>\n",
       "      <td>0.25393</td>\n",
       "      <td>21.890517</td>\n",
       "      <td>0.000000</td>\n",
       "      <td>21.890517</td>\n",
       "      <td>1.000000</td>\n",
       "      <td>1</td>\n",
       "      <td>1</td>\n",
       "      <td>1.160</td>\n",
       "      <td>0.698</td>\n",
       "      <td>1</td>\n",
       "      <td>1.0</td>\n",
       "    </tr>\n",
       "    <tr>\n",
       "      <th>2</th>\n",
       "      <td>3</td>\n",
       "      <td>2</td>\n",
       "      <td>0.59666</td>\n",
       "      <td>0.00043</td>\n",
       "      <td>0.59650</td>\n",
       "      <td>18.252065</td>\n",
       "      <td>0.013154</td>\n",
       "      <td>18.247170</td>\n",
       "      <td>1.000268</td>\n",
       "      <td>3</td>\n",
       "      <td>1</td>\n",
       "      <td>3.269</td>\n",
       "      <td>1.456</td>\n",
       "      <td>2</td>\n",
       "      <td>2.0</td>\n",
       "    </tr>\n",
       "  </tbody>\n",
       "</table>\n",
       "</div>"
      ],
      "text/plain": [
       "    ExpN  Cycle_N  M_d_cum  M_s_cum  M_t_cum     CE_cum   sCE_cum    tCE_cum  \\\n",
       "9     11        1  0.11323  0.00000  0.11323  14.048387  0.000000  14.048387   \n",
       "14    16        1  0.38847  0.00000  0.38847  33.005098  0.000000  33.005098   \n",
       "16    18        2  0.60909  0.00000  0.60909  31.283513  0.000000  31.283513   \n",
       "18    20        2  0.25393  0.00000  0.25393  21.890517  0.000000  21.890517   \n",
       "2      3        2  0.59666  0.00043  0.59650  18.252065  0.013154  18.247170   \n",
       "\n",
       "    d_t_rat_cum  ft  td  dustmass  M_filter_change_cum  case  counter  \n",
       "9      1.000000   2   1     0.806                0.210     1      1.0  \n",
       "14     1.000000   2   1     1.177                0.584     1      1.0  \n",
       "16     1.000000   4   1     1.947                1.057     1      1.0  \n",
       "18     1.000000   1   1     1.160                0.698     1      1.0  \n",
       "2      1.000268   3   1     3.269                1.456     2      2.0  "
      ]
     },
     "execution_count": 3,
     "metadata": {},
     "output_type": "execute_result"
    }
   ],
   "source": [
    "df.head()"
   ]
  },
  {
   "cell_type": "code",
   "execution_count": 4,
   "id": "a586d8d0",
   "metadata": {},
   "outputs": [
    {
     "data": {
      "image/png": "[encoded data removed]",
      "text/plain": [
       "<Figure size 432x288 with 1 Axes>"
      ]
     },
     "metadata": {
      "needs_background": "light"
     },
     "output_type": "display_data"
    }
   ],
   "source": [
    "### Recovery amount figure\n",
    "\n",
    "plt.figure()\n",
    "for t in df['td'].unique():\n",
    "    for f in df['ft'].unique():\n",
    "        plt.scatter(df.loc[(df['td'] == t) & (df['ft'] == f), 'counter'],\n",
    "                    df.loc[(df['td'] == t) & (df['ft'] == f), 'M_t_cum'], \n",
    "                    s = (df.loc[(df['td'] == t) & (df['ft'] == f), 'Cycle_N']) * 20, \n",
    "                    marker = marker_dict[f], c = fill_dict[t], edgecolor = 'k')\n",
    "\n",
    "plt.ylim(0, 6)\n",
    "plt.yticks(np.arange(0, 7, step = 1))\n",
    "plt.ylabel('Cumulative Overall Mass Recovered (g)', size = 11)\n",
    "plt.tick_params(axis = 'y', direction = 'inout')\n",
    "\n",
    "plt.xticks([])\n",
    "plt.xlim(0.5, 4.55)\n",
    "\n",
    "plt.text(1.5, -0.9, 'ISO', fontsize = 12, ha = 'center')\n",
    "plt.text(3.5, -0.9, 'ASHRAE', fontsize = 12, ha = 'center')\n",
    "\n",
    "plt.text(1, -0.3, 'All Other', fontsize = 8, ha = 'center')\n",
    "plt.text(2, -0.3, 'MERV 11', fontsize = 8, ha = 'center')\n",
    "plt.text(3, -0.3, 'All Other', fontsize = 8, ha = 'center')\n",
    "plt.text(4, -0.3, 'MERV 11', fontsize = 8, ha = 'center')\n",
    "\n",
    "plt.savefig(r'FigureS10_mass.jpg', format='jpg', dpi=1600, bbox_inches='tight')\n"
   ]
  },
  {
   "cell_type": "code",
   "execution_count": 5,
   "id": "41d0bf80",
   "metadata": {},
   "outputs": [
    {
     "data": {
      "image/png": "[encoded data removed]",
      "text/plain": [
       "<Figure size 432x288 with 1 Axes>"
      ]
     },
     "metadata": {
      "needs_background": "light"
     },
     "output_type": "display_data"
    }
   ],
   "source": [
    "### Recovery efficiency figure\n",
    "\n",
    "plt.figure()\n",
    "for t in df['td'].unique():\n",
    "    for f in df['ft'].unique():\n",
    "        plt.scatter(df.loc[(df['td'] == t) & (df['ft'] == f), 'counter'],\n",
    "                    df.loc[(df['td'] == t) & (df['ft'] == f), 'tCE_cum'], \n",
    "                    s = (df.loc[(df['td'] == t) & (df['ft'] == f), 'Cycle_N']) * 20, \n",
    "                    marker = marker_dict[f], c = fill_dict[t], edgecolor = 'k')\n",
    "\n",
    "plt.ylim(0, 60)\n",
    "plt.yticks(np.arange(0, 61, step = 10))\n",
    "plt.ylabel('Cumulative Overall Recovery Efficiency (%)', size = 11)\n",
    "plt.tick_params(axis = 'y', direction = 'inout')\n",
    "\n",
    "plt.xticks([])\n",
    "plt.xlim(0.5, 4.55)\n",
    "\n",
    "plt.text(1.5, -9, 'ISO', fontsize = 12, ha = 'center')\n",
    "plt.text(3.5, -9, 'ASHRAE', fontsize = 12, ha = 'center')\n",
    "\n",
    "plt.text(1, -3, 'All Other', fontsize = 8, ha = 'center')\n",
    "plt.text(2, -3, 'MERV 11', fontsize = 8, ha = 'center')\n",
    "plt.text(3, -3, 'All Other', fontsize = 8, ha = 'center')\n",
    "plt.text(4, -3, 'MERV 11', fontsize = 8, ha = 'center')\n",
    "\n",
    "plt.savefig(r'FigureS10_efficiency.jpg', format='jpg', dpi=1600, bbox_inches='tight')\n"
   ]
  },
  {
   "cell_type": "markdown",
   "id": "80480093",
   "metadata": {},
   "source": [
    "End of code"
   ]
  },
  {
   "cell_type": "code",
   "execution_count": null,
   "id": "c9129ae0",
   "metadata": {},
   "outputs": [],
   "source": []
  }
 ],
 "metadata": {
  "kernelspec": {
   "display_name": "Python 3 (ipykernel)",
   "language": "python",
   "name": "python3"
  },
  "language_info": {
   "codemirror_mode": {
    "name": "ipython",
    "version": 3
   },
   "file_extension": ".py",
   "mimetype": "text/x-python",
   "name": "python",
   "nbconvert_exporter": "python",
   "pygments_lexer": "ipython3",
   "version": "3.9.7"
  }
 },
 "nbformat": 4,
 "nbformat_minor": 5
}
