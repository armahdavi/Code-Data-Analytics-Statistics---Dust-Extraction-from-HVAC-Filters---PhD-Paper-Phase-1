{
 "cells": [
  {
   "cell_type": "markdown",
   "id": "94fece19",
   "metadata": {},
   "source": [
    "#### Figure S11 in M&S (2020) AS&T\n",
    "This figure shows the increase of dust recovery and recovery efficiency at the same time with one of the test filters that went thourgh 7 extraction cycles. It clearly reveals doing mutiple cycles helps increasing dust recovery from an HVAC filter. Dust recovery is an important step of understanding indoor particulate matter (PM) and the cleanliness of an indoor environment equipped with HVAC system.\n",
    "\n",
    "Plot type: Combinaed scatter and line plot (with dual y-axes)"
   ]
  },
  {
   "cell_type": "code",
   "execution_count": 1,
   "id": "1f775655",
   "metadata": {},
   "outputs": [],
   "source": [
    "from matplotlib import pyplot as plt\n",
    "import pandas as pd\n",
    "import numpy as np\n"
   ]
  },
  {
   "cell_type": "code",
   "execution_count": 2,
   "id": "4de3418c",
   "metadata": {},
   "outputs": [],
   "source": [
    "df = pd.read_excel(r'artl_dataset_summary_w_cv.xlsx')\n",
    "df = df[df['ExpN'] == 10][['Cycle_N', 'M_t_cum', 'tCE_cum']] # it was the 10th experiment that had 7 extraction cycle\n"
   ]
  },
  {
   "cell_type": "code",
   "execution_count": 3,
   "id": "90afd255",
   "metadata": {},
   "outputs": [
    {
     "data": {
      "text/html": [
       "<div>\n",
       "<style scoped>\n",
       "    .dataframe tbody tr th:only-of-type {\n",
       "        vertical-align: middle;\n",
       "    }\n",
       "\n",
       "    .dataframe tbody tr th {\n",
       "        vertical-align: top;\n",
       "    }\n",
       "\n",
       "    .dataframe thead th {\n",
       "        text-align: right;\n",
       "    }\n",
       "</style>\n",
       "<table border=\"1\" class=\"dataframe\">\n",
       "  <thead>\n",
       "    <tr style=\"text-align: right;\">\n",
       "      <th></th>\n",
       "      <th>Cycle_N</th>\n",
       "      <th>M_t_cum</th>\n",
       "      <th>tCE_cum</th>\n",
       "    </tr>\n",
       "  </thead>\n",
       "  <tbody>\n",
       "    <tr>\n",
       "      <th>12</th>\n",
       "      <td>1</td>\n",
       "      <td>0.39535</td>\n",
       "      <td>2.905490</td>\n",
       "    </tr>\n",
       "    <tr>\n",
       "      <th>13</th>\n",
       "      <td>2</td>\n",
       "      <td>1.59167</td>\n",
       "      <td>11.697435</td>\n",
       "    </tr>\n",
       "    <tr>\n",
       "      <th>14</th>\n",
       "      <td>3</td>\n",
       "      <td>2.72973</td>\n",
       "      <td>20.061218</td>\n",
       "    </tr>\n",
       "    <tr>\n",
       "      <th>15</th>\n",
       "      <td>4</td>\n",
       "      <td>3.50662</td>\n",
       "      <td>25.770706</td>\n",
       "    </tr>\n",
       "    <tr>\n",
       "      <th>16</th>\n",
       "      <td>5</td>\n",
       "      <td>3.67191</td>\n",
       "      <td>26.985449</td>\n",
       "    </tr>\n",
       "  </tbody>\n",
       "</table>\n",
       "</div>"
      ],
      "text/plain": [
       "    Cycle_N  M_t_cum    tCE_cum\n",
       "12        1  0.39535   2.905490\n",
       "13        2  1.59167  11.697435\n",
       "14        3  2.72973  20.061218\n",
       "15        4  3.50662  25.770706\n",
       "16        5  3.67191  26.985449"
      ]
     },
     "execution_count": 3,
     "metadata": {},
     "output_type": "execute_result"
    }
   ],
   "source": [
    "df.head()"
   ]
  },
  {
   "cell_type": "code",
   "execution_count": 4,
   "id": "4b0531a0",
   "metadata": {},
   "outputs": [
    {
     "data": {
      "image/png": "[encoded data removed]",
      "text/plain": [
       "<Figure size 432x288 with 2 Axes>"
      ]
     },
     "metadata": {
      "needs_background": "light"
     },
     "output_type": "display_data"
    }
   ],
   "source": [
    "fig, ax1 = plt.subplots()\n",
    "ax2 = ax1.twinx()\n",
    "\n",
    "ax1.plot(df[\"Cycle_N\"], df[\"M_t_cum\"], linewidth = 0.4, marker = 's', c = 'k', mfc= 'white')\n",
    "ax2.plot(df[\"Cycle_N\"], df[\"tCE_cum\"], linewidth = 0.4, marker = 's', c = 'k', mfc= 'white')\n",
    "\n",
    "ax1.set_ylim(0, 6)\n",
    "ax1.set_yticks(np.arange(0, 7, step=1))\n",
    "ax1.set_ylabel('Cumulative Mass Recovered (g)', size = 11)\n",
    "ax1.set_xlabel('Extraction Cycle #', size = 14)\n",
    "ax1.tick_params(axis = 'both', direction = 'inout')\n",
    "\n",
    "ax2.set_ylim(0, 44.094951128)\n",
    "ax2.set_yticks(np.arange(0, 45, step=10))\n",
    "ax2.set_ylabel('Cumulative Recovery Efficiency (%)', size = 11)\n",
    "ax2.tick_params(axis = 'y', direction = 'inout')\n",
    "\n",
    "plt.savefig(r'FigureS11_dual_axis_rec.jpg', format='jpg', dpi=1600, bbox_inches='tight')\n"
   ]
  },
  {
   "cell_type": "markdown",
   "id": "c7ef1e95",
   "metadata": {},
   "source": [
    "End of code"
   ]
  },
  {
   "cell_type": "code",
   "execution_count": null,
   "id": "7f87d6fb",
   "metadata": {},
   "outputs": [],
   "source": []
  }
 ],
 "metadata": {
  "kernelspec": {
   "display_name": "Python 3 (ipykernel)",
   "language": "python",
   "name": "python3"
  },
  "language_info": {
   "codemirror_mode": {
    "name": "ipython",
    "version": 3
   },
   "file_extension": ".py",
   "mimetype": "text/x-python",
   "name": "python",
   "nbconvert_exporter": "python",
   "pygments_lexer": "ipython3",
   "version": "3.9.7"
  }
 },
 "nbformat": 4,
 "nbformat_minor": 5
}
